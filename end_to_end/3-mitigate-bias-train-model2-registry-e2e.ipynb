{
 "cells": [
  {
   "cell_type": "markdown",
   "metadata": {},
   "source": [
    "# Auto Insurance Fraud Detection, Part 3 : Mitigate Bias, Train another unbiased Model and Put in the Model Registry"
   ]
  },
  {
   "cell_type": "markdown",
   "metadata": {},
   "source": [
    "In this section, we will describe how to detect bias using Clarify, Mitigate it with SMOTE, train another model, put it in the Model Registry along with all the Lineage of the Artifacts created along the way: data, code and model metadata."
   ]
  },
  {
   "cell_type": "markdown",
   "metadata": {},
   "source": [
    "<a id='aup-overview'></a>\n",
    "\n",
    "## [Overview](./0-AutoClaimFraudDetection.ipynb)\n",
    "\n",
    "* ### [Notebook 1](./1-data-prep-e2e.ipynb)\n",
    "  * #### [Getting started](#aud-getting-started)\n",
    "  * #### [DataSets](#aud-datasets)\n",
    "  * #### [SageMaker Feature Store](#aud-feature-store)\n",
    "  * #### [Create train and test datasets](#aud-dataset)\n",
    "* ### [Notebook 2](./2-lineage-train-assess-bias-tune-registry-e2e.ipynb)\n",
    "  * #### [Architecture](#train)\n",
    "  * #### [Train a model using XGBoost](#aud-train-model)\n",
    "  * #### [Model lineage with artifacts and associations](#model-lineage)\n",
    "  * #### [Evaluate the model for bias with Clarify](#check-bias)\n",
    "  * #### [Deposit Model and Lineage in SageMaker Model Registry](#model-registry)\n",
    "* ### [Notebook 3](./3-mitigate-bias-train-model2-registry-e2e.ipynb)\n",
    "  * #### [Architecture](#train2)\n",
    "  * #### [Develop a second model](#second-model)\n",
    "  * #### [Analyze the Second Model for Bias](#analyze-second-model)\n",
    "  * #### [View Results of Clarify Bias Detection Job](#view-second-clarify-job)\n",
    "  * #### [Configure and Run Clarify Explainability Job](#explainability)\n",
    "  * #### [Create Model Package for second trained model](#model-package)\n",
    "  \n",
    "* ### [Notebook 4](./4-deploy-run-inference-e2e.ipynb)\n",
    "  * #### Deploy an approved model and make prediction\n",
    "* ### [Notebook 5](./5-pipeline-e2e.ipynb)\n",
    "  * #### SageMaker Pipeline\n",
    "  * #### Cleanup"
   ]
  },
  {
   "cell_type": "markdown",
   "metadata": {},
   "source": [
    "### Load stored variables\n",
    "If you ran this notebook before, you may want to re-use the resources you aready created with AWS. Run the cell below to load any prevously created variables. You should see a print-out of the existing variables. If you don't see anything you may need to create them again or it may be your first time running this notebook."
   ]
  },
  {
   "cell_type": "code",
   "execution_count": 1,
   "metadata": {},
   "outputs": [
    {
     "name": "stdout",
     "output_type": "stream",
     "text": [
      "Stored variables and their in-db values:\n",
      "bucket                          -> 'sagemaker-us-east-2-738335684114'\n",
      "claims_fg_name                  -> 'fraud-detect-demo-claims'\n",
      "claims_table                    -> 'fraud-detect-demo-claims-1610061189'\n",
      "col_order                       -> ['fraud', 'incident_type_theft', 'policy_state_ca'\n",
      "customers_fg_name               -> 'fraud-detect-demo-customers'\n",
      "customers_table                 -> 'fraud-detect-demo-customers-1610061192'\n",
      "database_name                   -> 'sagemaker_featurestore'\n",
      "hyperparameters                 -> {'max_depth': '3', 'eta': '0.2', 'objective': 'bin\n",
      "model_1_name                    -> 'fraud-detect-demo-xgboost-pre-smote'\n",
      "mpg_name                        -> 'fraud-detect-demo'\n",
      "prefix                          -> 'fraud-detect-demo'\n",
      "test_data_uri                   -> 's3://sagemaker-us-east-2-738335684114/fraud-detec\n",
      "train_data_uri                  -> 's3://sagemaker-us-east-2-738335684114/fraud-detec\n",
      "training_job_1_name             -> 'sagemaker-xgboost-2021-01-24-00-54-41-852'\n"
     ]
    }
   ],
   "source": [
    "%store -r\n",
    "%store"
   ]
  },
  {
   "cell_type": "markdown",
   "metadata": {},
   "source": [
    "### Install required and/or update third-party libraries"
   ]
  },
  {
   "cell_type": "code",
   "execution_count": 2,
   "metadata": {},
   "outputs": [],
   "source": [
    "!python -m pip install -Uq pip\n",
    "!python -m pip install -q awswrangler==2.2.0 imbalanced-learn==0.7.0 sagemaker==2.23.1 boto3==1.16.48"
   ]
  },
  {
   "cell_type": "markdown",
   "metadata": {},
   "source": [
    "### Import libraries"
   ]
  },
  {
   "cell_type": "code",
   "execution_count": 3,
   "metadata": {},
   "outputs": [],
   "source": [
    "import json\n",
    "import time\n",
    "import boto3\n",
    "import sagemaker\n",
    "import numpy as np\n",
    "import pandas as pd\n",
    "import awswrangler as wr\n",
    "import matplotlib.pyplot as plt\n",
    "from imblearn.over_sampling import SMOTE\n",
    "from sagemaker.xgboost.estimator import XGBoost\n",
    "\n",
    "from model_package_src.inference_specification import InferenceSpecification\n",
    "\n",
    "%matplotlib inline"
   ]
  },
  {
   "cell_type": "markdown",
   "metadata": {},
   "source": [
    "### Set region, boto3 and SageMaker SDK variables"
   ]
  },
  {
   "cell_type": "code",
   "execution_count": 4,
   "metadata": {},
   "outputs": [],
   "source": [
    "region = \"us-east-2\""
   ]
  },
  {
   "cell_type": "code",
   "execution_count": 5,
   "metadata": {},
   "outputs": [],
   "source": [
    "boto3.setup_default_session(region_name=region)\n",
    "\n",
    "boto_session = boto3.Session(region_name=region)\n",
    "\n",
    "s3_client = boto3.client('s3', region_name=region)\n",
    "\n",
    "sagemaker_boto_client = boto_session.client('sagemaker')\n",
    "\n",
    "sagemaker_session = sagemaker.session.Session(\n",
    "    boto_session=boto_session,\n",
    "    sagemaker_client=sagemaker_boto_client)\n",
    "\n",
    "sagemaker_role = sagemaker.get_execution_role()\n",
    "\n",
    "account_id = boto3.client('sts').get_caller_identity()[\"Account\"]"
   ]
  },
  {
   "cell_type": "code",
   "execution_count": 6,
   "metadata": {},
   "outputs": [],
   "source": [
    "# variables used for parameterizing the notebook run\n",
    "model_2_name = f'{prefix}-xgboost-post-smote'\n",
    "\n",
    "train_data_upsampled_s3_path = f's3://{bucket}/{prefix}/data/train/upsampled/train.csv'\n",
    "bias_report_2_output_path = f's3://{bucket}/{prefix}/clarify-output/bias-2'\n",
    "explainability_output_path = f's3://{bucket}/{prefix}/clarify-output/explainability'\n",
    "\n",
    "train_instance_count = 1\n",
    "train_instance_type = \"ml.m4.xlarge\"\n",
    "\n",
    "claify_instance_count = 1\n",
    "clairfy_instance_type = 'ml.c5.xlarge'"
   ]
  },
  {
   "cell_type": "markdown",
   "metadata": {},
   "source": [
    "###  We assume you have run the previous data prep notebook,features are in the feature store, data is imported from them into an S3 bucket specified above as BUCKET and a train and test split has been done and put in the S3 bucket"
   ]
  },
  {
   "cell_type": "markdown",
   "metadata": {},
   "source": [
    "<pre>\n",
    "\n",
    "</pre>"
   ]
  },
  {
   "cell_type": "markdown",
   "metadata": {},
   "source": [
    "<a id ='train2'> </a>\n",
    "### Architecture for this ML Lifecycle Stage : Train, Check Bias, Tune, Record Lineage, Register Model\n",
    "\n",
    "![train-assess-tune-register](./images/e2e-2-pipeline-v3b.png)"
   ]
  },
  {
   "cell_type": "markdown",
   "metadata": {},
   "source": [
    "<a id='second-model'></a>\n",
    "\n",
    "## Develop a second model\n",
    "\n",
    "[overview](#aup-overview)\n",
    "___\n",
    "In this second model, you will fix the gender imbalance in the dataset using SMOTE and train another model using XGBoost. This model will also be saved to our registry and eventually approved for deployment."
   ]
  },
  {
   "cell_type": "code",
   "execution_count": 8,
   "metadata": {},
   "outputs": [],
   "source": [
    "train = pd.read_csv('data/train.csv')\n",
    "test = pd.read_csv('data/test.csv')"
   ]
  },
  {
   "cell_type": "markdown",
   "metadata": {},
   "source": [
    "<a id='smote'></a>\n",
    "### Resolve class imbalance using SMOTE\n",
    "\n",
    "To handle the imbalance, we can over-sample (i.e. upsample) the minority class using [SMOTE (Synthetic Minority Over-sampling Technique)](https://arxiv.org/pdf/1106.1813.pdf). After installing the imbalanced-learn module, if you receive an ImportError when importing SMOTE, then try restarting the kernel. "
   ]
  },
  {
   "cell_type": "markdown",
   "metadata": {},
   "source": [
    "#### Gender balance before SMOTE"
   ]
  },
  {
   "cell_type": "code",
   "execution_count": 9,
   "metadata": {},
   "outputs": [
    {
     "data": {
      "text/plain": [
       "0    10031\n",
       "1     5969\n",
       "Name: customer_gender_female, dtype: int64"
      ]
     },
     "execution_count": 9,
     "metadata": {},
     "output_type": "execute_result"
    }
   ],
   "source": [
    "gender = train['customer_gender_female']\n",
    "gender.value_counts()"
   ]
  },
  {
   "cell_type": "markdown",
   "metadata": {},
   "source": [
    "#### Gender balance after SMOTE"
   ]
  },
  {
   "cell_type": "code",
   "execution_count": 10,
   "metadata": {},
   "outputs": [
    {
     "data": {
      "text/plain": [
       "1    10031\n",
       "0    10031\n",
       "Name: customer_gender_female, dtype: int64"
      ]
     },
     "execution_count": 10,
     "metadata": {},
     "output_type": "execute_result"
    }
   ],
   "source": [
    "sm = SMOTE(random_state=42)\n",
    "train_data_upsampled, gender_res = sm.fit_resample(train, gender)\n",
    "train_data_upsampled['customer_gender_female'].value_counts()"
   ]
  },
  {
   "cell_type": "markdown",
   "metadata": {},
   "source": [
    "### Train new model\n"
   ]
  },
  {
   "cell_type": "code",
   "execution_count": 11,
   "metadata": {},
   "outputs": [],
   "source": [
    "train_data_upsampled.to_csv('data/upsampled_train.csv', index=False)\n",
    "s3_client.upload_file(Filename='data/upsampled_train.csv', Bucket=bucket, Key=f'{prefix}/data/train/upsampled/train.csv')"
   ]
  },
  {
   "cell_type": "code",
   "execution_count": 12,
   "metadata": {},
   "outputs": [],
   "source": [
    "xgb_estimator = XGBoost(\n",
    "    entry_point = \"xgboost_starter_script.py\",\n",
    "    hyperparameters = hyperparameters,\n",
    "    role = sagemaker_role,\n",
    "    instance_count = train_instance_count,\n",
    "    instance_type = train_instance_type,\n",
    "    framework_version = \"1.0-1\")"
   ]
  },
  {
   "cell_type": "code",
   "execution_count": 13,
   "metadata": {
    "scrolled": true
   },
   "outputs": [
    {
     "name": "stdout",
     "output_type": "stream",
     "text": [
      "2021-02-01 03:37:07 Starting - Starting the training job...\n",
      "2021-02-01 03:37:30 Starting - Launching requested ML instancesProfilerReport-1612150627: InProgress\n",
      "......\n",
      "2021-02-01 03:38:31 Starting - Preparing the instances for training......\n",
      "2021-02-01 03:39:34 Downloading - Downloading input data\n",
      "2021-02-01 03:39:34 Training - Downloading the training image...\n",
      "2021-02-01 03:40:07 Training - Training image download completed. Training in progress...\u001b[34mINFO:sagemaker-containers:Imported framework sagemaker_xgboost_container.training\u001b[0m\n",
      "\u001b[34mINFO:sagemaker-containers:No GPUs detected (normal if no gpus installed)\u001b[0m\n",
      "\u001b[34mINFO:sagemaker_xgboost_container.training:Invoking user training script.\u001b[0m\n",
      "\u001b[34mINFO:sagemaker-containers:Module xgboost_starter_script does not provide a setup.py. \u001b[0m\n",
      "\u001b[34mGenerating setup.py\u001b[0m\n",
      "\u001b[34mINFO:sagemaker-containers:Generating setup.cfg\u001b[0m\n",
      "\u001b[34mINFO:sagemaker-containers:Generating MANIFEST.in\u001b[0m\n",
      "\u001b[34mINFO:sagemaker-containers:Installing module with the following command:\u001b[0m\n",
      "\u001b[34m/miniconda3/bin/python -m pip install . \u001b[0m\n",
      "\u001b[34mProcessing /opt/ml/code\u001b[0m\n",
      "\u001b[34mBuilding wheels for collected packages: xgboost-starter-script\n",
      "  Building wheel for xgboost-starter-script (setup.py): started\n",
      "  Building wheel for xgboost-starter-script (setup.py): finished with status 'done'\n",
      "  Created wheel for xgboost-starter-script: filename=xgboost_starter_script-1.0.0-py2.py3-none-any.whl size=4906 sha256=23d861b4822e9742f66e45d98236cf4554651546284f78021d395e588b509d61\n",
      "  Stored in directory: /home/model-server/tmp/pip-ephem-wheel-cache-0ag9te6b/wheels/95/c1/85/65aaf48b35aba88c6e896d2fd04a4b69f1cee0d81ea32993ca\u001b[0m\n",
      "\u001b[34mSuccessfully built xgboost-starter-script\u001b[0m\n",
      "\u001b[34mInstalling collected packages: xgboost-starter-script\u001b[0m\n",
      "\u001b[34mSuccessfully installed xgboost-starter-script-1.0.0\u001b[0m\n",
      "\u001b[34mINFO:sagemaker-containers:No GPUs detected (normal if no gpus installed)\u001b[0m\n",
      "\u001b[34mINFO:sagemaker-containers:Invoking user script\n",
      "\u001b[0m\n",
      "\u001b[34mTraining Env:\n",
      "\u001b[0m\n",
      "\u001b[34m{\n",
      "    \"additional_framework_parameters\": {},\n",
      "    \"channel_input_dirs\": {\n",
      "        \"train\": \"/opt/ml/input/data/train\"\n",
      "    },\n",
      "    \"current_host\": \"algo-1\",\n",
      "    \"framework_module\": \"sagemaker_xgboost_container.training:main\",\n",
      "    \"hosts\": [\n",
      "        \"algo-1\"\n",
      "    ],\n",
      "    \"hyperparameters\": {\n",
      "        \"eta\": \"0.2\",\n",
      "        \"max_depth\": \"3\",\n",
      "        \"num_round\": \"100\",\n",
      "        \"objective\": \"binary:logistic\"\n",
      "    },\n",
      "    \"input_config_dir\": \"/opt/ml/input/config\",\n",
      "    \"input_data_config\": {\n",
      "        \"train\": {\n",
      "            \"TrainingInputMode\": \"File\",\n",
      "            \"S3DistributionType\": \"FullyReplicated\",\n",
      "            \"RecordWrapperType\": \"None\"\n",
      "        }\n",
      "    },\n",
      "    \"input_dir\": \"/opt/ml/input\",\n",
      "    \"is_master\": true,\n",
      "    \"job_name\": \"sagemaker-xgboost-2021-02-01-03-37-06-845\",\n",
      "    \"log_level\": 20,\n",
      "    \"master_hostname\": \"algo-1\",\n",
      "    \"model_dir\": \"/opt/ml/model\",\n",
      "    \"module_dir\": \"s3://sagemaker-us-east-2-738335684114/sagemaker-xgboost-2021-02-01-03-37-06-845/source/sourcedir.tar.gz\",\n",
      "    \"module_name\": \"xgboost_starter_script\",\n",
      "    \"network_interface_name\": \"eth0\",\n",
      "    \"num_cpus\": 4,\n",
      "    \"num_gpus\": 0,\n",
      "    \"output_data_dir\": \"/opt/ml/output/data\",\n",
      "    \"output_dir\": \"/opt/ml/output\",\n",
      "    \"output_intermediate_dir\": \"/opt/ml/output/intermediate\",\n",
      "    \"resource_config\": {\n",
      "        \"current_host\": \"algo-1\",\n",
      "        \"hosts\": [\n",
      "            \"algo-1\"\n",
      "        ],\n",
      "        \"network_interface_name\": \"eth0\"\n",
      "    },\n",
      "    \"user_entry_point\": \"xgboost_starter_script.py\"\u001b[0m\n",
      "\u001b[34m}\n",
      "\u001b[0m\n",
      "\u001b[34mEnvironment variables:\n",
      "\u001b[0m\n",
      "\u001b[34mSM_HOSTS=[\"algo-1\"]\u001b[0m\n",
      "\u001b[34mSM_NETWORK_INTERFACE_NAME=eth0\u001b[0m\n",
      "\u001b[34mSM_HPS={\"eta\":\"0.2\",\"max_depth\":\"3\",\"num_round\":\"100\",\"objective\":\"binary:logistic\"}\u001b[0m\n",
      "\u001b[34mSM_USER_ENTRY_POINT=xgboost_starter_script.py\u001b[0m\n",
      "\u001b[34mSM_FRAMEWORK_PARAMS={}\u001b[0m\n",
      "\u001b[34mSM_RESOURCE_CONFIG={\"current_host\":\"algo-1\",\"hosts\":[\"algo-1\"],\"network_interface_name\":\"eth0\"}\u001b[0m\n",
      "\u001b[34mSM_INPUT_DATA_CONFIG={\"train\":{\"RecordWrapperType\":\"None\",\"S3DistributionType\":\"FullyReplicated\",\"TrainingInputMode\":\"File\"}}\u001b[0m\n",
      "\u001b[34mSM_OUTPUT_DATA_DIR=/opt/ml/output/data\u001b[0m\n",
      "\u001b[34mSM_CHANNELS=[\"train\"]\u001b[0m\n",
      "\u001b[34mSM_CURRENT_HOST=algo-1\u001b[0m\n",
      "\u001b[34mSM_MODULE_NAME=xgboost_starter_script\u001b[0m\n",
      "\u001b[34mSM_LOG_LEVEL=20\u001b[0m\n",
      "\u001b[34mSM_FRAMEWORK_MODULE=sagemaker_xgboost_container.training:main\u001b[0m\n",
      "\u001b[34mSM_INPUT_DIR=/opt/ml/input\u001b[0m\n",
      "\u001b[34mSM_INPUT_CONFIG_DIR=/opt/ml/input/config\u001b[0m\n",
      "\u001b[34mSM_OUTPUT_DIR=/opt/ml/output\u001b[0m\n",
      "\u001b[34mSM_NUM_CPUS=4\u001b[0m\n",
      "\u001b[34mSM_NUM_GPUS=0\u001b[0m\n",
      "\u001b[34mSM_MODEL_DIR=/opt/ml/model\u001b[0m\n",
      "\u001b[34mSM_MODULE_DIR=s3://sagemaker-us-east-2-738335684114/sagemaker-xgboost-2021-02-01-03-37-06-845/source/sourcedir.tar.gz\u001b[0m\n",
      "\u001b[34mSM_TRAINING_ENV={\"additional_framework_parameters\":{},\"channel_input_dirs\":{\"train\":\"/opt/ml/input/data/train\"},\"current_host\":\"algo-1\",\"framework_module\":\"sagemaker_xgboost_container.training:main\",\"hosts\":[\"algo-1\"],\"hyperparameters\":{\"eta\":\"0.2\",\"max_depth\":\"3\",\"num_round\":\"100\",\"objective\":\"binary:logistic\"},\"input_config_dir\":\"/opt/ml/input/config\",\"input_data_config\":{\"train\":{\"RecordWrapperType\":\"None\",\"S3DistributionType\":\"FullyReplicated\",\"TrainingInputMode\":\"File\"}},\"input_dir\":\"/opt/ml/input\",\"is_master\":true,\"job_name\":\"sagemaker-xgboost-2021-02-01-03-37-06-845\",\"log_level\":20,\"master_hostname\":\"algo-1\",\"model_dir\":\"/opt/ml/model\",\"module_dir\":\"s3://sagemaker-us-east-2-738335684114/sagemaker-xgboost-2021-02-01-03-37-06-845/source/sourcedir.tar.gz\",\"module_name\":\"xgboost_starter_script\",\"network_interface_name\":\"eth0\",\"num_cpus\":4,\"num_gpus\":0,\"output_data_dir\":\"/opt/ml/output/data\",\"output_dir\":\"/opt/ml/output\",\"output_intermediate_dir\":\"/opt/ml/output/intermediate\",\"resource_config\":{\"current_host\":\"algo-1\",\"hosts\":[\"algo-1\"],\"network_interface_name\":\"eth0\"},\"user_entry_point\":\"xgboost_starter_script.py\"}\u001b[0m\n",
      "\u001b[34mSM_USER_ARGS=[\"--eta\",\"0.2\",\"--max_depth\",\"3\",\"--num_round\",\"100\",\"--objective\",\"binary:logistic\"]\u001b[0m\n",
      "\u001b[34mSM_OUTPUT_INTERMEDIATE_DIR=/opt/ml/output/intermediate\u001b[0m\n",
      "\u001b[34mSM_CHANNEL_TRAIN=/opt/ml/input/data/train\u001b[0m\n",
      "\u001b[34mSM_HP_ETA=0.2\u001b[0m\n",
      "\u001b[34mSM_HP_MAX_DEPTH=3\u001b[0m\n",
      "\u001b[34mSM_HP_NUM_ROUND=100\u001b[0m\n",
      "\u001b[34mSM_HP_OBJECTIVE=binary:logistic\u001b[0m\n",
      "\u001b[34mPYTHONPATH=/miniconda3/bin:/:/miniconda3/lib/python3.6/site-packages/xgboost/dmlc-core/tracker:/miniconda3/lib/python36.zip:/miniconda3/lib/python3.6:/miniconda3/lib/python3.6/lib-dynload:/miniconda3/lib/python3.6/site-packages\n",
      "\u001b[0m\n",
      "\u001b[34mInvoking script with the following command:\n",
      "\u001b[0m\n",
      "\u001b[34m/miniconda3/bin/python -m xgboost_starter_script --eta 0.2 --max_depth 3 --num_round 100 --objective binary:logistic\n",
      "\n",
      "\u001b[0m\n",
      "\u001b[34m[0]#011train-auc:0.9342333999999999\u001b[0m\n",
      "\u001b[34m[1]#011validation-auc:0.8189531999999999\u001b[0m\n",
      "\n",
      "2021-02-01 03:40:35 Uploading - Uploading generated training model\n",
      "2021-02-01 03:40:35 Completed - Training job completed\n",
      "Training seconds: 76\n",
      "Billable seconds: 76\n",
      "Stored 'training_job_2_name' (str)\n"
     ]
    }
   ],
   "source": [
    "if 'training_job_2_name' not in locals():\n",
    "    \n",
    "    xgb_estimator.fit(inputs = {'train': train_data_upsampled_s3_path})\n",
    "    training_job_2_name = xgb_estimator.latest_training_job.job_name\n",
    "    %store training_job_2_name\n",
    "    \n",
    "else:\n",
    "    \n",
    "    print(f'Using previous training job: {training_job_2_name}')"
   ]
  },
  {
   "cell_type": "markdown",
   "metadata": {},
   "source": [
    "### Register artifacts"
   ]
  },
  {
   "cell_type": "code",
   "execution_count": 14,
   "metadata": {},
   "outputs": [],
   "source": [
    "training_job_2_info = sagemaker_boto_client.describe_training_job(TrainingJobName=training_job_2_name)"
   ]
  },
  {
   "cell_type": "markdown",
   "metadata": {},
   "source": [
    "#### Code artifact"
   ]
  },
  {
   "cell_type": "code",
   "execution_count": 15,
   "metadata": {},
   "outputs": [
    {
     "name": "stdout",
     "output_type": "stream",
     "text": [
      "Create artifact arn:aws:sagemaker:us-east-2:738335684114:artifact/bb2e2f6ac90d92e79009ec87d9bcc65c: SUCCESSFUL\n"
     ]
    }
   ],
   "source": [
    "# return any existing artifact which match the our training job's code arn\n",
    "code_s3_uri = training_job_2_info['HyperParameters']['sagemaker_submit_directory']\n",
    "\n",
    "list_response = list(sagemaker.lineage.artifact.Artifact.list(\n",
    "    source_uri=code_s3_uri,\n",
    "    sagemaker_session=sagemaker_session))\n",
    "\n",
    "# use existing arifact if it's already been created, otherwise create a new artifact\n",
    "if list_response:\n",
    "    code_artifact = list_response[0]\n",
    "    print(f'Using existing artifact: {code_artifact.artifact_arn}')\n",
    "else:\n",
    "    code_artifact = sagemaker.lineage.artifact.Artifact.create(\n",
    "        artifact_name='TrainingScript',\n",
    "        source_uri=code_s3_uri,\n",
    "        artifact_type='Code',\n",
    "        sagemaker_session=sagemaker_session)\n",
    "    print(f'Create artifact {code_artifact.artifact_arn}: SUCCESSFUL')"
   ]
  },
  {
   "cell_type": "markdown",
   "metadata": {},
   "source": [
    "#### Training data artifact"
   ]
  },
  {
   "cell_type": "code",
   "execution_count": 16,
   "metadata": {},
   "outputs": [
    {
     "name": "stdout",
     "output_type": "stream",
     "text": [
      "Using existing artifact: arn:aws:sagemaker:us-east-2:738335684114:artifact/46e72d06fe238194f3b4cf5ea6ce3fd3\n"
     ]
    }
   ],
   "source": [
    "training_data_s3_uri = training_job_2_info['InputDataConfig'][0]['DataSource']['S3DataSource']['S3Uri']\n",
    "\n",
    "list_response = list(sagemaker.lineage.artifact.Artifact.list(\n",
    "    source_uri=training_data_s3_uri,\n",
    "    sagemaker_session=sagemaker_session))\n",
    "\n",
    "if list_response:\n",
    "    training_data_artifact = list_response[0]\n",
    "    print(f'Using existing artifact: {training_data_artifact.artifact_arn}')\n",
    "else:\n",
    "    training_data_artifact = sagemaker.lineage.artifact.Artifact.create(\n",
    "        artifact_name='TrainingData',\n",
    "        source_uri=training_data_s3_uri,\n",
    "        artifact_type='Dataset',\n",
    "        sagemaker_session=sagemaker_session)\n",
    "    print(f'Create artifact {training_data_artifact.artifact_arn}: SUCCESSFUL')"
   ]
  },
  {
   "cell_type": "markdown",
   "metadata": {},
   "source": [
    "#### Model artifact"
   ]
  },
  {
   "cell_type": "code",
   "execution_count": 17,
   "metadata": {},
   "outputs": [
    {
     "name": "stdout",
     "output_type": "stream",
     "text": [
      "Using existing artifact: arn:aws:sagemaker:us-east-2:738335684114:artifact/d4ca849cbaeb84bae6b8a924db95ef31\n"
     ]
    }
   ],
   "source": [
    "trained_model_s3_uri = training_job_2_info['ModelArtifacts']['S3ModelArtifacts']\n",
    "\n",
    "list_response = list(sagemaker.lineage.artifact.Artifact.list(\n",
    "    source_uri=trained_model_s3_uri,\n",
    "    sagemaker_session=sagemaker_session))\n",
    "\n",
    "if list_response:\n",
    "    model_artifact = list_response[0]\n",
    "    print(f'Using existing artifact: {model_artifact.artifact_arn}')\n",
    "else:\n",
    "    model_artifact = sagemaker.lineage.artifact.Artifact.create(\n",
    "        artifact_name='TrainedModel',\n",
    "        source_uri=trained_model_s3_uri,\n",
    "        artifact_type='Model',\n",
    "        sagemaker_session=sagemaker_session)\n",
    "    print(f'Create artifact {model_artifact.artifact_arn}: SUCCESSFUL')"
   ]
  },
  {
   "cell_type": "markdown",
   "metadata": {},
   "source": [
    "### Set artifact associations"
   ]
  },
  {
   "cell_type": "code",
   "execution_count": 18,
   "metadata": {},
   "outputs": [],
   "source": [
    "trial_component = sagemaker_boto_client.describe_trial_component(TrialComponentName=training_job_2_name+'-aws-training-job')\n",
    "trial_component_arn = trial_component['TrialComponentArn']"
   ]
  },
  {
   "cell_type": "markdown",
   "metadata": {},
   "source": [
    "#### Input artifacts"
   ]
  },
  {
   "cell_type": "code",
   "execution_count": 19,
   "metadata": {},
   "outputs": [
    {
     "name": "stdout",
     "output_type": "stream",
     "text": [
      "Associate arn:aws:sagemaker:us-east-2:738335684114:experiment-trial-component/sagemaker-xgboost-2021-02-01-03-37-06-845-aws-training-job and arn:aws:sagemaker:us-east-2:738335684114:artifact/bb2e2f6ac90d92e79009ec87d9bcc65c: SUCCEESFUL\n",
      "\n",
      "Association already exists between arn:aws:sagemaker:us-east-2:738335684114:experiment-trial-component/sagemaker-xgboost-2021-02-01-03-37-06-845-aws-training-job and arn:aws:sagemaker:us-east-2:738335684114:artifact/46e72d06fe238194f3b4cf5ea6ce3fd3.\n",
      "\n"
     ]
    }
   ],
   "source": [
    "input_artifacts = [code_artifact, training_data_artifact]\n",
    "\n",
    "for a in input_artifacts:\n",
    "    try:\n",
    "        sagemaker.lineage.association.Association.create(\n",
    "            source_arn=a.artifact_arn,\n",
    "            destination_arn=trial_component_arn,\n",
    "            association_type='ContributedTo',\n",
    "            sagemaker_session=sagemaker_session)\n",
    "        print(f\"Associate {trial_component_arn} and {a.artifact_arn}: SUCCEESFUL\\n\")\n",
    "    except:\n",
    "        print(f\"Association already exists between {trial_component_arn} and {a.artifact_arn}.\\n\")"
   ]
  },
  {
   "cell_type": "markdown",
   "metadata": {},
   "source": [
    "#### Output artifacts"
   ]
  },
  {
   "cell_type": "code",
   "execution_count": 20,
   "metadata": {},
   "outputs": [
    {
     "name": "stdout",
     "output_type": "stream",
     "text": [
      "Association already exists between arn:aws:sagemaker:us-east-2:738335684114:experiment-trial-component/sagemaker-xgboost-2021-02-01-03-37-06-845-aws-training-job and arn:aws:sagemaker:us-east-2:738335684114:artifact/46e72d06fe238194f3b4cf5ea6ce3fd3.\n",
      "\n"
     ]
    }
   ],
   "source": [
    "output_artifacts = [model_artifact]\n",
    "\n",
    "for artifact_arn in output_artifacts:\n",
    "    try:\n",
    "        sagemaker.lineage.association.Association.create(\n",
    "            source_arn=a.artifact_arn,\n",
    "            destination_arn=trial_component_arn,\n",
    "            association_type='Produced',\n",
    "            sagemaker_session=sagemaker_session)\n",
    "        print(f\"Associate {trial_component_arn} and {a.artifact_arn}: SUCCEESFUL\\n\")\n",
    "    except:\n",
    "        print(f\"Association already exists between {trial_component_arn} and {a.artifact_arn}.\\n\")"
   ]
  },
  {
   "cell_type": "markdown",
   "metadata": {},
   "source": [
    "<pre>\n",
    "\n",
    "</pre>"
   ]
  },
  {
   "cell_type": "markdown",
   "metadata": {},
   "source": [
    "<a id ='analyze-second-model'></a>\n",
    "## Analyze second model for bias and explainability\n",
    "\n",
    "[overview](#aup-overview)\n",
    "___\n",
    "Amazon SageMaker Clarify provides tools to help explain how machine learning (ML) models make predictions. These tools can help ML modelers and developers and other internal stakeholders understand model characteristics as a whole prior to deployment and to debug predictions provided by the model after it's deployed. Transparency about how ML models arrive at their predictions is also critical to consumers and regulators who need to trust the model predictions if they are going to accept the decisions based on them. SageMaker Clarify uses a model-agnostic feature attribution approach, which you can used to understand why a model made a prediction after training and to provide per-instance explanation during inference. The implementation includes a scalable and efficient implementation of SHAP ([see paper](https://papers.nips.cc/paper/2017/file/8a20a8621978632d76c43dfd28b67767-Paper.pdf)), based on the concept of a Shapley value from the field of cooperative game theory that assigns each feature an importance value for a particular prediction. "
   ]
  },
  {
   "cell_type": "markdown",
   "metadata": {},
   "source": [
    "### Create model from estimator"
   ]
  },
  {
   "cell_type": "code",
   "execution_count": 21,
   "metadata": {},
   "outputs": [
    {
     "name": "stderr",
     "output_type": "stream",
     "text": [
      "Using already existing model: fraud-detect-demo-xgboost-post-smote\n"
     ]
    },
    {
     "name": "stdout",
     "output_type": "stream",
     "text": [
      "Stored 'model_2_name' (str)\n"
     ]
    }
   ],
   "source": [
    "model_matches = sagemaker_boto_client.list_models(NameContains=model_2_name)['Models']\n",
    "\n",
    "if not model_matches:\n",
    "    \n",
    "    model_2 = sagemaker_session.create_model_from_job(\n",
    "        name=model_2_name,\n",
    "        training_job_name=training_job_2_info['TrainingJobName'],\n",
    "        role=sagemaker_role,\n",
    "        image_uri=training_job_2_info['AlgorithmSpecification']['TrainingImage'])\n",
    "    %store model_2_name\n",
    "    \n",
    "else:\n",
    "    \n",
    "    print(f\"Model {model_2_name} already exists.\")"
   ]
  },
  {
   "cell_type": "markdown",
   "metadata": {},
   "source": [
    "<a id='bias-v1'></a>\n",
    "### Check for data set bias and model bias\n",
    "\n",
    "With SageMaker, we can check for pre-training and post-training bias. Pre-training metrics show pre-existing bias in that data, while post-training metrics show bias in the predictions from the model. Using the SageMaker SDK, we can specify which groups we want to check bias across and which metrics we'd like to show. \n",
    "\n",
    "To run the full Clarify job, you must un-comment the code in the cell below. Running the job will take ~15 minutes. If you wish to save time, you can view the results in the next cell after which loads a pre-generated output if no bias job was run."
   ]
  },
  {
   "cell_type": "code",
   "execution_count": 22,
   "metadata": {},
   "outputs": [],
   "source": [
    "clarify_processor = sagemaker.clarify.SageMakerClarifyProcessor(\n",
    "    role=sagemaker_role,\n",
    "    instance_count=1,\n",
    "    instance_type='ml.c4.xlarge',\n",
    "    sagemaker_session=sagemaker_session)\n",
    "\n",
    "bias_data_config = sagemaker.clarify.DataConfig(\n",
    "    s3_data_input_path=train_data_upsampled_s3_path,\n",
    "    s3_output_path=bias_report_2_output_path,\n",
    "    label='fraud',\n",
    "    headers=train.columns.to_list(),\n",
    "    dataset_type='text/csv')\n",
    "\n",
    "model_config = sagemaker.clarify.ModelConfig(\n",
    "    model_name=model_2_name,\n",
    "    instance_type=train_instance_type,\n",
    "    instance_count=1,\n",
    "    accept_type='text/csv')\n",
    "\n",
    "predictions_config = sagemaker.clarify.ModelPredictedLabelConfig(probability_threshold=0.5)\n",
    "\n",
    "bias_config = sagemaker.clarify.BiasConfig(\n",
    "    label_values_or_threshold=[0],\n",
    "    facet_name='customer_gender_female',\n",
    "    facet_values_or_threshold=[1])\n",
    "\n",
    "# # un-comment the code below to run the whole job\n",
    "\n",
    "# if 'clarify_bias_job_2_name' not in locals():\n",
    "\n",
    "#     clarify_processor.run_bias(\n",
    "#         data_config=bias_data_config,\n",
    "#         bias_config=bias_config,\n",
    "#         model_config=model_config,\n",
    "#         model_predicted_label_config=predictions_config,\n",
    "#         pre_training_methods='all',\n",
    "#         post_training_methods='all')\n",
    "\n",
    "#     clarify_bias_job_2_name = clarify_processor.latest_job.name\n",
    "#     %store clarify_bias_job_2_name\n",
    "\n",
    "# else:\n",
    "#     print(f'Clarify job {clarify_bias_job_2_name} has already run successfully.')"
   ]
  },
  {
   "cell_type": "markdown",
   "metadata": {},
   "source": [
    "<a id ='view-second-clarify-job'></a>\n",
    "### View results of Clarify job (shortcut)\n",
    "\n",
    "[overview](#aup-overview)\n",
    "\n",
    "\n",
    "Running Clarify on your dataset or model can take ~15 minutes. If you don't have time to run the job, you can view the pre-generated results included with this demo. Otherwise, you can run the job by un-commenting the code in the cell above."
   ]
  },
  {
   "cell_type": "code",
   "execution_count": 23,
   "metadata": {},
   "outputs": [
    {
     "name": "stdout",
     "output_type": "stream",
     "text": [
      "Loading pre-generated analysis file...\n",
      "\n",
      "{\n",
      "    \"name\": \"CI\",\n",
      "    \"description\": \"Class Imbalance (CI)\",\n",
      "    \"value\": 0.398\n",
      "}\n",
      "{\n",
      "    \"name\": \"CI\",\n",
      "    \"description\": \"Class Imbalance (CI)\",\n",
      "    \"value\": 0.0\n",
      "}\n"
     ]
    }
   ],
   "source": [
    "if 'clarify_bias_job_2_name' in locals():\n",
    "    s3_client.download_file(\n",
    "        Bucket   = bucket, \n",
    "        Key      = f'{prefix}/clarify-output/bias-2/analysis.json', \n",
    "        Filename = 'clarify_output/bias_2/analysis.json'\n",
    "    )\n",
    "    print(f'Downloaded analysis from previous Clarify job: {clarify_bias_job_2_name}\\n')\n",
    "else:\n",
    "    print(f'Loading pre-generated analysis file...\\n')\n",
    "\n",
    "with open('clarify_output/bias_1/analysis.json', 'r') as f:\n",
    "        bias_analysis = json.load(f)\n",
    "\n",
    "results = bias_analysis['pre_training_bias_metrics']['facets']['customer_gender_female'][0]['metrics'][1]\n",
    "print(json.dumps(results, indent=4))\n",
    "\n",
    "with open('clarify_output/bias_2/analysis.json', 'r') as f:\n",
    "        bias_analysis = json.load(f)\n",
    "\n",
    "results = bias_analysis['pre_training_bias_metrics']['facets']['customer_gender_female'][0]['metrics'][1]\n",
    "print(json.dumps(results, indent=4))"
   ]
  },
  {
   "cell_type": "markdown",
   "metadata": {},
   "source": [
    "<a id ='explainability' ></a>\n",
    "### Configure and run explainability job\n",
    "[overview](#aup-overview)\n",
    "\n",
    "To run the full Clarify job, you must un-comment the code in the cell below. Running the job will take ~15 minutes. If you wish to save time, you can view the results in the next cell after which loads a pre-generated output if no explainability job was run."
   ]
  },
  {
   "cell_type": "code",
   "execution_count": 24,
   "metadata": {},
   "outputs": [],
   "source": [
    "model_config = sagemaker.clarify.ModelConfig(\n",
    "    model_name=model_2_name,\n",
    "    instance_type=train_instance_type,\n",
    "    instance_count=1,\n",
    "    accept_type='text/csv')\n",
    "\n",
    "shap_config = sagemaker.clarify.SHAPConfig(\n",
    "    baseline=[train.median().values[1:].tolist()],\n",
    "    num_samples=100,\n",
    "    agg_method='mean_abs')\n",
    "\n",
    "explainability_data_config = sagemaker.clarify.DataConfig(\n",
    "    s3_data_input_path=train_data_upsampled_s3_path,\n",
    "    s3_output_path=explainability_output_path,\n",
    "    label='fraud',\n",
    "    headers=train.columns.to_list(),\n",
    "    dataset_type='text/csv')\n",
    "\n",
    "# un-comment the code below to run the whole job\n",
    "\n",
    "# if 'clarify_expl_job_name' not in locals():\n",
    "\n",
    "#     clarify_processor.run_explainability(\n",
    "#         data_config=explainability_data_config,\n",
    "#         model_config=model_config,\n",
    "#         explainability_config=shap_config)\n",
    "    \n",
    "#     clarify_expl_job_name = clarify_processor.latest_job.name\n",
    "#     %store clarify_expl_job_name\n",
    "    \n",
    "# else:\n",
    "#     print(f'Clarify job {clarify_expl_job_name} has already run successfully.')"
   ]
  },
  {
   "cell_type": "markdown",
   "metadata": {},
   "source": [
    "### View Clarify explainability results (shortcut)\n",
    "Running Clarify on your dataset or model can take ~15 minutes. If you don't have time to run the job, you can view the pre-generated results included with this demo. Otherwise, you can run the job by un-commenting the code in the cell above."
   ]
  },
  {
   "cell_type": "code",
   "execution_count": 25,
   "metadata": {},
   "outputs": [
    {
     "name": "stdout",
     "output_type": "stream",
     "text": [
      "Loading pre-generated analysis file...\n",
      "\n"
     ]
    },
    {
     "data": {
      "image/png": "[encoded data removed]",
      "text/plain": [
       "<Figure size 432x288 with 1 Axes>"
      ]
     },
     "metadata": {
      "needs_background": "light"
     },
     "output_type": "display_data"
    }
   ],
   "source": [
    "if 'clarify_expl_job_name' in locals():\n",
    "    s3_client.download_file(\n",
    "        Bucket   = bucket, \n",
    "        Key      = f'{prefix}/clarify-output/explainability/analysis.json', \n",
    "        Filename = 'clarify_output/explainability/analysis.json'\n",
    "    )\n",
    "    print(f'Downloaded analysis from previous Clarify job: {clarify_expl_job_name}\\n')\n",
    "else:\n",
    "    print(f'Loading pre-generated analysis file...\\n')\n",
    "\n",
    "with open('clarify_output/explainability/analysis.json', 'r') as f:\n",
    "        analysis_result = json.load(f)\n",
    "        \n",
    "shap_values = pd.DataFrame(analysis_result['explanations']['kernel_shap'][\"label0\"])\n",
    "importances = shap_values['global_shap_values'].sort_values(ascending=False)\n",
    "fig, ax = plt.subplots()\n",
    "n = 5\n",
    "y_pos = np.arange(n)\n",
    "importance_scores = importances.values[:n]\n",
    "y_label = importances.index[:n]\n",
    "ax.barh(y_pos, importance_scores, align='center')\n",
    "ax.set_yticks(y_pos)\n",
    "ax.set_yticklabels(y_label)\n",
    "ax.invert_yaxis()  \n",
    "ax.set_xlabel('SHAP Value (impact on model output)');"
   ]
  },
  {
   "cell_type": "markdown",
   "metadata": {},
   "source": [
    "<pre>\n",
    "\n",
    "</pre>"
   ]
  },
  {
   "cell_type": "markdown",
   "metadata": {},
   "source": [
    "### What is SHAP?\n",
    "SHAP is the method used for calculating explanations in this solution.\n",
    "Unlike other feature attribution methods, such as single feature\n",
    "permutation, SHAP tries to disentangle the effect of a single feature by\n",
    "looking at all possible combinations of features.\n",
    "\n",
    "[SHAP](https://github.com/slundberg/shap) (Lundberg et al. 2017) stands\n",
    "for SHapley Additive exPlanations. 'Shapley' relates to a game theoretic\n",
    "concept called [Shapley\n",
    "values](https://en.wikipedia.org/wiki/Shapley_value) that is used to\n",
    "create the explanations. A Shapley value describes the marginal\n",
    "contribution of each 'player' when considering all possible 'coalitions'.\n",
    "Using this in a machine learning context, a Shapley value  describes the\n",
    "marginal contribution of each feature when considering all possible sets\n",
    "of features. 'Additive' relates to the fact that these Shapley values can\n",
    "be summed together to give the final model prediction.\n",
    "\n",
    "As an example, we might start off with a baseline credit default risk of\n",
    "10%. Given a set of features, we can calculate the Shapley value for each\n",
    "feature. Summing together all the Shapley values, we might obtain a\n",
    "cumulative value of +30%. Given the same set of features, we therefore\n",
    "expect our model to return a credit default risk of 40% (i.e. 10% + 30%)."
   ]
  },
  {
   "cell_type": "markdown",
   "metadata": {},
   "source": [
    "<a id='model-package' ></a>\n",
    "## Create Model Package for second trained model\n",
    "\n",
    "[overview](#aup-overview)"
   ]
  },
  {
   "cell_type": "markdown",
   "metadata": {},
   "source": [
    "#### Create and upload second model metrics report"
   ]
  },
  {
   "cell_type": "code",
   "execution_count": 26,
   "metadata": {},
   "outputs": [],
   "source": [
    "model_metrics_report = {'classification_metrics': {}}\n",
    "for metric in training_job_2_info['FinalMetricDataList']:\n",
    "    stat = {metric['MetricName']: {'value': metric['Value']}}\n",
    "    model_metrics_report['classification_metrics'].update(stat)\n",
    "    \n",
    "with open('training_metrics.json', 'w') as f:\n",
    "    json.dump(model_metrics_report, f)\n",
    "    \n",
    "metrics_s3_key = f\"{prefix}/training_jobs/{training_job_2_info['TrainingJobName']}/training_metrics.json\"\n",
    "s3_client.upload_file(Filename='training_metrics.json', Bucket=bucket, Key=metrics_s3_key)"
   ]
  },
  {
   "cell_type": "markdown",
   "metadata": {},
   "source": [
    "#### Define inference specification"
   ]
  },
  {
   "cell_type": "code",
   "execution_count": 27,
   "metadata": {},
   "outputs": [],
   "source": [
    "mp_inference_spec = InferenceSpecification().get_inference_specification_dict(\n",
    "    ecr_image=training_job_2_info['AlgorithmSpecification']['TrainingImage'],\n",
    "    supports_gpu=False,\n",
    "    supported_content_types=['text/csv'],\n",
    "    supported_mime_types=['text/csv'])\n",
    "\n",
    "mp_inference_spec['InferenceSpecification']['Containers'][0]['ModelDataUrl'] = training_job_2_info['ModelArtifacts']['S3ModelArtifacts']"
   ]
  },
  {
   "cell_type": "markdown",
   "metadata": {},
   "source": [
    "#### Define model metrics"
   ]
  },
  {
   "cell_type": "code",
   "execution_count": 28,
   "metadata": {},
   "outputs": [],
   "source": [
    "model_metrics = {\n",
    "    'ModelQuality': {\n",
    "        'Statistics': {\n",
    "            'ContentType': 'application/json',\n",
    "            'S3Uri': f's3://{bucket}/{prefix}/{metrics_s3_key}'\n",
    "        }\n",
    "    },\n",
    "    'Bias': {\n",
    "        'Report': {\n",
    "            'ContentType': 'application/json',\n",
    "            'S3Uri': f'{explainability_output_path}/analysis.json'\n",
    "        }\n",
    "    }\n",
    "}"
   ]
  },
  {
   "cell_type": "markdown",
   "metadata": {},
   "source": [
    "#### Register second model package to Model Package Group"
   ]
  },
  {
   "cell_type": "code",
   "execution_count": 29,
   "metadata": {},
   "outputs": [
    {
     "name": "stdout",
     "output_type": "stream",
     "text": [
      "Stored 'mp2_arn' (str)\n"
     ]
    }
   ],
   "source": [
    "mp_input_dict = {\n",
    "    'ModelPackageGroupName': mpg_name,\n",
    "    'ModelPackageDescription': 'XGBoost classifier to detect insurance fraud with SMOTE.',\n",
    "    'ModelApprovalStatus': 'PendingManualApproval',\n",
    "    'ModelMetrics': model_metrics\n",
    "}\n",
    "\n",
    "mp_input_dict.update(mp_inference_spec)\n",
    "mp2_response = sagemaker_boto_client.create_model_package(**mp_input_dict)\n",
    "mp2_arn = mp2_response['ModelPackageArn']\n",
    "%store mp2_arn"
   ]
  },
  {
   "cell_type": "markdown",
   "metadata": {},
   "source": [
    "#### Check status of model package creation"
   ]
  },
  {
   "cell_type": "code",
   "execution_count": 30,
   "metadata": {},
   "outputs": [
    {
     "name": "stdout",
     "output_type": "stream",
     "text": [
      "model package status: Completed\n"
     ]
    }
   ],
   "source": [
    "mp_info = sagemaker_boto_client.describe_model_package(ModelPackageName=mp2_response['ModelPackageArn'])\n",
    "mp_status = mp_info['ModelPackageStatus']\n",
    "\n",
    "while mp_status not in ['Completed', 'Failed']:\n",
    "    time.sleep(5)\n",
    "    mp_info = sagemaker_boto_client.describe_model_package(ModelPackageName=mp2_response['ModelPackageArn'])\n",
    "    mp_status = mp_info['ModelPackageStatus']\n",
    "    print(f'model package status: {mp_status}')\n",
    "print(f'model package status: {mp_status}')"
   ]
  },
  {
   "cell_type": "markdown",
   "metadata": {},
   "source": [
    "### View both models in the registry"
   ]
  },
  {
   "cell_type": "code",
   "execution_count": 31,
   "metadata": {},
   "outputs": [
    {
     "data": {
      "text/plain": [
       "[{'ModelPackageGroupName': 'fraud-detect-demo',\n",
       "  'ModelPackageVersion': 7,\n",
       "  'ModelPackageArn': 'arn:aws:sagemaker:us-east-2:738335684114:model-package/fraud-detect-demo/7',\n",
       "  'ModelPackageDescription': 'XGBoost classifier to detect insurance fraud with SMOTE.',\n",
       "  'CreationTime': datetime.datetime(2021, 2, 1, 3, 47, 13, 569000, tzinfo=tzlocal()),\n",
       "  'ModelPackageStatus': 'Completed',\n",
       "  'ModelApprovalStatus': 'PendingManualApproval'},\n",
       " {'ModelPackageGroupName': 'fraud-detect-demo',\n",
       "  'ModelPackageVersion': 6,\n",
       "  'ModelPackageArn': 'arn:aws:sagemaker:us-east-2:738335684114:model-package/fraud-detect-demo/6',\n",
       "  'ModelPackageDescription': 'XGBoost classifier to detect insurance fraud.',\n",
       "  'CreationTime': datetime.datetime(2021, 2, 1, 3, 21, 47, 260000, tzinfo=tzlocal()),\n",
       "  'ModelPackageStatus': 'Completed',\n",
       "  'ModelApprovalStatus': 'PendingManualApproval'},\n",
       " {'ModelPackageGroupName': 'fraud-detect-demo',\n",
       "  'ModelPackageVersion': 5,\n",
       "  'ModelPackageArn': 'arn:aws:sagemaker:us-east-2:738335684114:model-package/fraud-detect-demo/5',\n",
       "  'ModelPackageDescription': 'XGBoost classifier to detect insurance fraud.',\n",
       "  'CreationTime': datetime.datetime(2021, 1, 24, 0, 58, 59, 458000, tzinfo=tzlocal()),\n",
       "  'ModelPackageStatus': 'Completed',\n",
       "  'ModelApprovalStatus': 'PendingManualApproval'},\n",
       " {'ModelPackageGroupName': 'fraud-detect-demo',\n",
       "  'ModelPackageVersion': 4,\n",
       "  'ModelPackageArn': 'arn:aws:sagemaker:us-east-2:738335684114:model-package/fraud-detect-demo/4',\n",
       "  'CreationTime': datetime.datetime(2021, 1, 23, 5, 53, 31, 96000, tzinfo=tzlocal()),\n",
       "  'ModelPackageStatus': 'Completed',\n",
       "  'ModelApprovalStatus': 'PendingManualApproval'},\n",
       " {'ModelPackageGroupName': 'fraud-detect-demo',\n",
       "  'ModelPackageVersion': 3,\n",
       "  'ModelPackageArn': 'arn:aws:sagemaker:us-east-2:738335684114:model-package/fraud-detect-demo/3',\n",
       "  'CreationTime': datetime.datetime(2021, 1, 8, 0, 5, 35, 402000, tzinfo=tzlocal()),\n",
       "  'ModelPackageStatus': 'Completed',\n",
       "  'ModelApprovalStatus': 'Approved'},\n",
       " {'ModelPackageGroupName': 'fraud-detect-demo',\n",
       "  'ModelPackageVersion': 2,\n",
       "  'ModelPackageArn': 'arn:aws:sagemaker:us-east-2:738335684114:model-package/fraud-detect-demo/2',\n",
       "  'ModelPackageDescription': 'XGBoost classifier to detect insurance fraud with SMOTE.',\n",
       "  'CreationTime': datetime.datetime(2021, 1, 7, 23, 28, 22, 459000, tzinfo=tzlocal()),\n",
       "  'ModelPackageStatus': 'Completed',\n",
       "  'ModelApprovalStatus': 'Approved'},\n",
       " {'ModelPackageGroupName': 'fraud-detect-demo',\n",
       "  'ModelPackageVersion': 1,\n",
       "  'ModelPackageArn': 'arn:aws:sagemaker:us-east-2:738335684114:model-package/fraud-detect-demo/1',\n",
       "  'ModelPackageDescription': 'XGBoost classifier to detect insurance fraud.',\n",
       "  'CreationTime': datetime.datetime(2021, 1, 7, 23, 27, 35, 649000, tzinfo=tzlocal()),\n",
       "  'ModelPackageStatus': 'Completed',\n",
       "  'ModelApprovalStatus': 'PendingManualApproval'}]"
      ]
     },
     "execution_count": 31,
     "metadata": {},
     "output_type": "execute_result"
    }
   ],
   "source": [
    "sagemaker_boto_client.list_model_packages(ModelPackageGroupName=mpg_name)['ModelPackageSummaryList']"
   ]
  },
  {
   "cell_type": "markdown",
   "metadata": {},
   "source": [
    "<pre>\n",
    "\n",
    "</pre>"
   ]
  },
  {
   "cell_type": "markdown",
   "metadata": {},
   "source": [
    "## Note : in the [Next Notebook](./4-deploy-run-inference-e2e.ipynb), you will Deploy an approved model and make predictions\n",
    "___"
   ]
  },
  {
   "cell_type": "markdown",
   "metadata": {},
   "source": [
    "Join us there when you are ready..."
   ]
  },
  {
   "cell_type": "code",
   "execution_count": null,
   "metadata": {},
   "outputs": [],
   "source": []
  }
 ],
 "metadata": {
  "instance_type": "ml.t3.medium",
  "kernelspec": {
   "display_name": "Python 3 (Data Science)",
   "language": "python",
   "name": "python3__SAGEMAKER_INTERNAL__arn:aws:sagemaker:us-east-2:429704687514:image/datascience-1.0"
  },
  "language_info": {
   "codemirror_mode": {
    "name": "ipython",
    "version": 3
   },
   "file_extension": ".py",
   "mimetype": "text/x-python",
   "name": "python",
   "nbconvert_exporter": "python",
   "pygments_lexer": "ipython3",
   "version": "3.7.6"
  }
 },
 "nbformat": 4,
 "nbformat_minor": 4
}
